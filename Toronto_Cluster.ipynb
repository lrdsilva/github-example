{
 "cells": [
  {
   "cell_type": "markdown",
   "metadata": {},
   "source": [
    "This will be used for capstone project"
   ]
  },
  {
   "cell_type": "code",
   "execution_count": 2,
   "metadata": {},
   "outputs": [],
   "source": [
    "import pandas as pd\n",
    "import numpy as np\n",
    "from bs4 import BeautifulSoup\n",
    "import requests"
   ]
  },
  {
   "cell_type": "code",
   "execution_count": 4,
   "metadata": {},
   "outputs": [],
   "source": [
    "url = 'https://en.wikipedia.org/wiki/List_of_postal_codes_of_Canada:_M'\n",
    "urldata=requests.get(url).text\n",
    "soup=BeautifulSoup(urldata,'html.parser')"
   ]
  },
  {
   "cell_type": "code",
   "execution_count": 5,
   "metadata": {},
   "outputs": [],
   "source": [
    "table = soup.find('table')\n",
    "#table   "
   ]
  },
  {
   "cell_type": "code",
   "execution_count": 6,
   "metadata": {},
   "outputs": [],
   "source": [
    "column_names = ['Postal Code', 'Borough', 'Neighbourhood'] \n",
    "# instantiate the dataframe\n",
    "Toronto_df = pd.DataFrame(columns=column_names)\n",
    "\n",
    "for tr_cell in table.find_all('tr'): \n",
    "    int=1\n",
    "    Postcode_var      = -1\n",
    "    Borough_var       = -1\n",
    "    Neighbourhood_var = -1\n",
    "    for td_cell in tr_cell.find_all('td'):\n",
    "        if int == 1: \n",
    "            Postcode_var = str(td_cell.text).strip()\n",
    "        if int == 2: \n",
    "            Borough_var = str(td_cell.text).strip()\n",
    "            tag_a_Borough = td_cell.find('a')\n",
    "        if int == 3: \n",
    "            Neighbourhood_var = str(td_cell.text).strip()\n",
    "            tag_a_Neighbourhood = td_cell.find('a')\n",
    "        \n",
    "        int +=1\n",
    "    \n",
    "    #exclude row with a Not assigned Borough or Postcode\n",
    "    if (Postcode_var == 'Not assigned' or Borough_var == 'Not assigned'):            \n",
    "        continue\n",
    "    \n",
    "    if(Postcode_var == -1 or Borough_var == -1 or Neighbourhood_var == -1):        \n",
    "        continue     \n",
    "    \n",
    "    Toronto_df=Toronto_df.append({'Postal Code': Postcode_var,\n",
    "                                          'Borough': Borough_var,\n",
    "                                          'Neighbourhood': Neighbourhood_var\n",
    "                                          }, ignore_index=True)\n"
   ]
  },
  {
   "cell_type": "code",
   "execution_count": 7,
   "metadata": {},
   "outputs": [
    {
     "data": {
      "text/html": [
       "<div>\n",
       "<style scoped>\n",
       "    .dataframe tbody tr th:only-of-type {\n",
       "        vertical-align: middle;\n",
       "    }\n",
       "\n",
       "    .dataframe tbody tr th {\n",
       "        vertical-align: top;\n",
       "    }\n",
       "\n",
       "    .dataframe thead th {\n",
       "        text-align: right;\n",
       "    }\n",
       "</style>\n",
       "<table border=\"1\" class=\"dataframe\">\n",
       "  <thead>\n",
       "    <tr style=\"text-align: right;\">\n",
       "      <th></th>\n",
       "      <th>Postal Code</th>\n",
       "      <th>Borough</th>\n",
       "      <th>Neighbourhood</th>\n",
       "    </tr>\n",
       "  </thead>\n",
       "  <tbody>\n",
       "    <tr>\n",
       "      <th>0</th>\n",
       "      <td>M3A</td>\n",
       "      <td>North York</td>\n",
       "      <td>Parkwoods</td>\n",
       "    </tr>\n",
       "    <tr>\n",
       "      <th>1</th>\n",
       "      <td>M4A</td>\n",
       "      <td>North York</td>\n",
       "      <td>Victoria Village</td>\n",
       "    </tr>\n",
       "    <tr>\n",
       "      <th>2</th>\n",
       "      <td>M5A</td>\n",
       "      <td>Downtown Toronto</td>\n",
       "      <td>Regent Park, Harbourfront</td>\n",
       "    </tr>\n",
       "    <tr>\n",
       "      <th>3</th>\n",
       "      <td>M6A</td>\n",
       "      <td>North York</td>\n",
       "      <td>Lawrence Manor, Lawrence Heights</td>\n",
       "    </tr>\n",
       "    <tr>\n",
       "      <th>4</th>\n",
       "      <td>M7A</td>\n",
       "      <td>Downtown Toronto</td>\n",
       "      <td>Queen's Park, Ontario Provincial Government</td>\n",
       "    </tr>\n",
       "  </tbody>\n",
       "</table>\n",
       "</div>"
      ],
      "text/plain": [
       "  Postal Code           Borough                                Neighbourhood\n",
       "0         M3A        North York                                    Parkwoods\n",
       "1         M4A        North York                             Victoria Village\n",
       "2         M5A  Downtown Toronto                    Regent Park, Harbourfront\n",
       "3         M6A        North York             Lawrence Manor, Lawrence Heights\n",
       "4         M7A  Downtown Toronto  Queen's Park, Ontario Provincial Government"
      ]
     },
     "execution_count": 7,
     "metadata": {},
     "output_type": "execute_result"
    }
   ],
   "source": [
    "Toronto_df.head()"
   ]
  },
  {
   "cell_type": "code",
   "execution_count": 8,
   "metadata": {},
   "outputs": [
    {
     "name": "stdout",
     "output_type": "stream",
     "text": [
      "The dataframe has unique 103 Postal Code and 103 number of Rows.\n"
     ]
    }
   ],
   "source": [
    "print('The dataframe has unique {} Postal Code and {} number of Rows.'.format(\n",
    "        len(Toronto_df['Postal Code'].unique()),\n",
    "        Toronto_df.shape[0]\n",
    "    ) \n",
    ")\n"
   ]
  },
  {
   "cell_type": "code",
   "execution_count": 9,
   "metadata": {
    "scrolled": true
   },
   "outputs": [
    {
     "data": {
      "text/html": [
       "<div>\n",
       "<style scoped>\n",
       "    .dataframe tbody tr th:only-of-type {\n",
       "        vertical-align: middle;\n",
       "    }\n",
       "\n",
       "    .dataframe tbody tr th {\n",
       "        vertical-align: top;\n",
       "    }\n",
       "\n",
       "    .dataframe thead th {\n",
       "        text-align: right;\n",
       "    }\n",
       "</style>\n",
       "<table border=\"1\" class=\"dataframe\">\n",
       "  <thead>\n",
       "    <tr style=\"text-align: right;\">\n",
       "      <th></th>\n",
       "      <th>Postal Code</th>\n",
       "      <th>Latitude</th>\n",
       "      <th>Longitude</th>\n",
       "    </tr>\n",
       "  </thead>\n",
       "  <tbody>\n",
       "    <tr>\n",
       "      <th>0</th>\n",
       "      <td>M1B</td>\n",
       "      <td>43.806686</td>\n",
       "      <td>-79.194353</td>\n",
       "    </tr>\n",
       "    <tr>\n",
       "      <th>1</th>\n",
       "      <td>M1C</td>\n",
       "      <td>43.784535</td>\n",
       "      <td>-79.160497</td>\n",
       "    </tr>\n",
       "    <tr>\n",
       "      <th>2</th>\n",
       "      <td>M1E</td>\n",
       "      <td>43.763573</td>\n",
       "      <td>-79.188711</td>\n",
       "    </tr>\n",
       "    <tr>\n",
       "      <th>3</th>\n",
       "      <td>M1G</td>\n",
       "      <td>43.770992</td>\n",
       "      <td>-79.216917</td>\n",
       "    </tr>\n",
       "    <tr>\n",
       "      <th>4</th>\n",
       "      <td>M1H</td>\n",
       "      <td>43.773136</td>\n",
       "      <td>-79.239476</td>\n",
       "    </tr>\n",
       "  </tbody>\n",
       "</table>\n",
       "</div>"
      ],
      "text/plain": [
       "  Postal Code   Latitude  Longitude\n",
       "0         M1B  43.806686 -79.194353\n",
       "1         M1C  43.784535 -79.160497\n",
       "2         M1E  43.763573 -79.188711\n",
       "3         M1G  43.770992 -79.216917\n",
       "4         M1H  43.773136 -79.239476"
      ]
     },
     "execution_count": 9,
     "metadata": {},
     "output_type": "execute_result"
    }
   ],
   "source": [
    "GeoCoordinates_df = pd.read_csv('Geospatial_Coordinates.csv')\n",
    "GeoCoordinates_df.head()"
   ]
  },
  {
   "cell_type": "markdown",
   "metadata": {},
   "source": [
    "#Merging GeoCoordinates_df with Toronto DataFrame"
   ]
  },
  {
   "cell_type": "code",
   "execution_count": 10,
   "metadata": {},
   "outputs": [],
   "source": [
    "TorontoNew_df=Toronto_df.merge(GeoCoordinates_df)"
   ]
  },
  {
   "cell_type": "code",
   "execution_count": 11,
   "metadata": {},
   "outputs": [
    {
     "data": {
      "text/html": [
       "<div>\n",
       "<style scoped>\n",
       "    .dataframe tbody tr th:only-of-type {\n",
       "        vertical-align: middle;\n",
       "    }\n",
       "\n",
       "    .dataframe tbody tr th {\n",
       "        vertical-align: top;\n",
       "    }\n",
       "\n",
       "    .dataframe thead th {\n",
       "        text-align: right;\n",
       "    }\n",
       "</style>\n",
       "<table border=\"1\" class=\"dataframe\">\n",
       "  <thead>\n",
       "    <tr style=\"text-align: right;\">\n",
       "      <th></th>\n",
       "      <th>Postal Code</th>\n",
       "      <th>Borough</th>\n",
       "      <th>Neighbourhood</th>\n",
       "      <th>Latitude</th>\n",
       "      <th>Longitude</th>\n",
       "    </tr>\n",
       "  </thead>\n",
       "  <tbody>\n",
       "    <tr>\n",
       "      <th>0</th>\n",
       "      <td>M3A</td>\n",
       "      <td>North York</td>\n",
       "      <td>Parkwoods</td>\n",
       "      <td>43.753259</td>\n",
       "      <td>-79.329656</td>\n",
       "    </tr>\n",
       "    <tr>\n",
       "      <th>1</th>\n",
       "      <td>M4A</td>\n",
       "      <td>North York</td>\n",
       "      <td>Victoria Village</td>\n",
       "      <td>43.725882</td>\n",
       "      <td>-79.315572</td>\n",
       "    </tr>\n",
       "    <tr>\n",
       "      <th>2</th>\n",
       "      <td>M5A</td>\n",
       "      <td>Downtown Toronto</td>\n",
       "      <td>Regent Park, Harbourfront</td>\n",
       "      <td>43.654260</td>\n",
       "      <td>-79.360636</td>\n",
       "    </tr>\n",
       "    <tr>\n",
       "      <th>3</th>\n",
       "      <td>M6A</td>\n",
       "      <td>North York</td>\n",
       "      <td>Lawrence Manor, Lawrence Heights</td>\n",
       "      <td>43.718518</td>\n",
       "      <td>-79.464763</td>\n",
       "    </tr>\n",
       "    <tr>\n",
       "      <th>4</th>\n",
       "      <td>M7A</td>\n",
       "      <td>Downtown Toronto</td>\n",
       "      <td>Queen's Park, Ontario Provincial Government</td>\n",
       "      <td>43.662301</td>\n",
       "      <td>-79.389494</td>\n",
       "    </tr>\n",
       "  </tbody>\n",
       "</table>\n",
       "</div>"
      ],
      "text/plain": [
       "  Postal Code           Borough                                Neighbourhood  \\\n",
       "0         M3A        North York                                    Parkwoods   \n",
       "1         M4A        North York                             Victoria Village   \n",
       "2         M5A  Downtown Toronto                    Regent Park, Harbourfront   \n",
       "3         M6A        North York             Lawrence Manor, Lawrence Heights   \n",
       "4         M7A  Downtown Toronto  Queen's Park, Ontario Provincial Government   \n",
       "\n",
       "    Latitude  Longitude  \n",
       "0  43.753259 -79.329656  \n",
       "1  43.725882 -79.315572  \n",
       "2  43.654260 -79.360636  \n",
       "3  43.718518 -79.464763  \n",
       "4  43.662301 -79.389494  "
      ]
     },
     "execution_count": 11,
     "metadata": {},
     "output_type": "execute_result"
    }
   ],
   "source": [
    "TorontoNew_df.head()"
   ]
  },
  {
   "cell_type": "code",
   "execution_count": 21,
   "metadata": {},
   "outputs": [
    {
     "name": "stdout",
     "output_type": "stream",
     "text": [
      "Shape of Borough dataframe is (39, 5)\n"
     ]
    },
    {
     "data": {
      "text/html": [
       "<div>\n",
       "<style scoped>\n",
       "    .dataframe tbody tr th:only-of-type {\n",
       "        vertical-align: middle;\n",
       "    }\n",
       "\n",
       "    .dataframe tbody tr th {\n",
       "        vertical-align: top;\n",
       "    }\n",
       "\n",
       "    .dataframe thead th {\n",
       "        text-align: right;\n",
       "    }\n",
       "</style>\n",
       "<table border=\"1\" class=\"dataframe\">\n",
       "  <thead>\n",
       "    <tr style=\"text-align: right;\">\n",
       "      <th></th>\n",
       "      <th>Postal Code</th>\n",
       "      <th>Borough</th>\n",
       "      <th>Neighbourhood</th>\n",
       "      <th>Latitude</th>\n",
       "      <th>Longitude</th>\n",
       "    </tr>\n",
       "  </thead>\n",
       "  <tbody>\n",
       "    <tr>\n",
       "      <th>2</th>\n",
       "      <td>M5A</td>\n",
       "      <td>Downtown Toronto</td>\n",
       "      <td>Regent Park, Harbourfront</td>\n",
       "      <td>43.654260</td>\n",
       "      <td>-79.360636</td>\n",
       "    </tr>\n",
       "    <tr>\n",
       "      <th>4</th>\n",
       "      <td>M7A</td>\n",
       "      <td>Downtown Toronto</td>\n",
       "      <td>Queen's Park, Ontario Provincial Government</td>\n",
       "      <td>43.662301</td>\n",
       "      <td>-79.389494</td>\n",
       "    </tr>\n",
       "    <tr>\n",
       "      <th>9</th>\n",
       "      <td>M5B</td>\n",
       "      <td>Downtown Toronto</td>\n",
       "      <td>Garden District, Ryerson</td>\n",
       "      <td>43.657162</td>\n",
       "      <td>-79.378937</td>\n",
       "    </tr>\n",
       "    <tr>\n",
       "      <th>15</th>\n",
       "      <td>M5C</td>\n",
       "      <td>Downtown Toronto</td>\n",
       "      <td>St. James Town</td>\n",
       "      <td>43.651494</td>\n",
       "      <td>-79.375418</td>\n",
       "    </tr>\n",
       "    <tr>\n",
       "      <th>19</th>\n",
       "      <td>M4E</td>\n",
       "      <td>East Toronto</td>\n",
       "      <td>The Beaches</td>\n",
       "      <td>43.676357</td>\n",
       "      <td>-79.293031</td>\n",
       "    </tr>\n",
       "  </tbody>\n",
       "</table>\n",
       "</div>"
      ],
      "text/plain": [
       "   Postal Code           Borough                                Neighbourhood  \\\n",
       "2          M5A  Downtown Toronto                    Regent Park, Harbourfront   \n",
       "4          M7A  Downtown Toronto  Queen's Park, Ontario Provincial Government   \n",
       "9          M5B  Downtown Toronto                     Garden District, Ryerson   \n",
       "15         M5C  Downtown Toronto                               St. James Town   \n",
       "19         M4E      East Toronto                                  The Beaches   \n",
       "\n",
       "     Latitude  Longitude  \n",
       "2   43.654260 -79.360636  \n",
       "4   43.662301 -79.389494  \n",
       "9   43.657162 -79.378937  \n",
       "15  43.651494 -79.375418  \n",
       "19  43.676357 -79.293031  "
      ]
     },
     "execution_count": 21,
     "metadata": {},
     "output_type": "execute_result"
    }
   ],
   "source": [
    "Borough_Toronto_df=TorontoNew_df[TorontoNew_df['Borough'].str.contains('Toronto')]\n",
    "print ('Shape of Borough dataframe is {}'.format(Borough_Toronto_df.shape))\n",
    "Borough_Toronto_df.head()\n"
   ]
  },
  {
   "cell_type": "code",
   "execution_count": 23,
   "metadata": {},
   "outputs": [
    {
     "data": {
      "text/html": [
       "<div>\n",
       "<style scoped>\n",
       "    .dataframe tbody tr th:only-of-type {\n",
       "        vertical-align: middle;\n",
       "    }\n",
       "\n",
       "    .dataframe tbody tr th {\n",
       "        vertical-align: top;\n",
       "    }\n",
       "\n",
       "    .dataframe thead th {\n",
       "        text-align: right;\n",
       "    }\n",
       "</style>\n",
       "<table border=\"1\" class=\"dataframe\">\n",
       "  <thead>\n",
       "    <tr style=\"text-align: right;\">\n",
       "      <th></th>\n",
       "      <th>Borough</th>\n",
       "      <th>Neighbourhood</th>\n",
       "      <th>Latitude</th>\n",
       "      <th>Longitude</th>\n",
       "    </tr>\n",
       "  </thead>\n",
       "  <tbody>\n",
       "    <tr>\n",
       "      <th>2</th>\n",
       "      <td>Downtown Toronto</td>\n",
       "      <td>Regent Park, Harbourfront</td>\n",
       "      <td>43.654260</td>\n",
       "      <td>-79.360636</td>\n",
       "    </tr>\n",
       "    <tr>\n",
       "      <th>4</th>\n",
       "      <td>Downtown Toronto</td>\n",
       "      <td>Queen's Park, Ontario Provincial Government</td>\n",
       "      <td>43.662301</td>\n",
       "      <td>-79.389494</td>\n",
       "    </tr>\n",
       "    <tr>\n",
       "      <th>9</th>\n",
       "      <td>Downtown Toronto</td>\n",
       "      <td>Garden District, Ryerson</td>\n",
       "      <td>43.657162</td>\n",
       "      <td>-79.378937</td>\n",
       "    </tr>\n",
       "    <tr>\n",
       "      <th>15</th>\n",
       "      <td>Downtown Toronto</td>\n",
       "      <td>St. James Town</td>\n",
       "      <td>43.651494</td>\n",
       "      <td>-79.375418</td>\n",
       "    </tr>\n",
       "    <tr>\n",
       "      <th>19</th>\n",
       "      <td>East Toronto</td>\n",
       "      <td>The Beaches</td>\n",
       "      <td>43.676357</td>\n",
       "      <td>-79.293031</td>\n",
       "    </tr>\n",
       "  </tbody>\n",
       "</table>\n",
       "</div>"
      ],
      "text/plain": [
       "             Borough                                Neighbourhood   Latitude  \\\n",
       "2   Downtown Toronto                    Regent Park, Harbourfront  43.654260   \n",
       "4   Downtown Toronto  Queen's Park, Ontario Provincial Government  43.662301   \n",
       "9   Downtown Toronto                     Garden District, Ryerson  43.657162   \n",
       "15  Downtown Toronto                               St. James Town  43.651494   \n",
       "19      East Toronto                                  The Beaches  43.676357   \n",
       "\n",
       "    Longitude  \n",
       "2  -79.360636  \n",
       "4  -79.389494  \n",
       "9  -79.378937  \n",
       "15 -79.375418  \n",
       "19 -79.293031  "
      ]
     },
     "execution_count": 23,
     "metadata": {},
     "output_type": "execute_result"
    }
   ],
   "source": [
    "column_names = ['Borough', 'Neighbourhood', 'Latitude', 'Longitude'] \n",
    "neighborhoods = Borough_Toronto_df[column_names]\n",
    "neighborhoods.head()"
   ]
  },
  {
   "cell_type": "code",
   "execution_count": 25,
   "metadata": {},
   "outputs": [
    {
     "name": "stdout",
     "output_type": "stream",
     "text": [
      "The dataframe has 4 boroughs and 39 neighborhoods.\n"
     ]
    }
   ],
   "source": [
    "print('The dataframe has {} boroughs and {} neighborhoods.'.format(\n",
    "        len(neighborhoods['Borough'].unique()),\n",
    "        neighborhoods.shape[0]\n",
    "    )\n",
    ")"
   ]
  },
  {
   "cell_type": "code",
   "execution_count": 28,
   "metadata": {},
   "outputs": [
    {
     "name": "stdout",
     "output_type": "stream",
     "text": [
      "The geograpical coordinate of Toronto, Ontario are 43.6534817, -79.3839347.\n"
     ]
    }
   ],
   "source": [
    "from geopy.geocoders import Nominatim \n",
    "address = 'Toronto, Ontario'\n",
    "\n",
    "geolocator = Nominatim(user_agent=\"ny_explorer\")\n",
    "location = geolocator.geocode(address)\n",
    "latitude = location.latitude\n",
    "longitude = location.longitude\n",
    "print('The geograpical coordinate of Toronto, Ontario are {}, {}.'.format(latitude, longitude))"
   ]
  },
  {
   "cell_type": "code",
   "execution_count": 34,
   "metadata": {},
   "outputs": [
    {
     "data": {
      "text/html": [
       "<div style=\"width:100%;\"><div style=\"position:relative;width:100%;height:0;padding-bottom:60%;\"><span style=\"color:#565656\">Make this Notebook Trusted to load map: File -> Trust Notebook</span><iframe src=\"about:blank\" style=\"position:absolute;width:100%;height:100%;left:0;top:0;border:none !important;\" data-html=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 onload=\"this.contentDocument.open();this.contentDocument.write(atob(this.getAttribute('data-html')));this.contentDocument.close();\" allowfullscreen webkitallowfullscreen mozallowfullscreen></iframe></div></div>"
      ],
      "text/plain": [
       "<folium.folium.Map at 0x1f425e09048>"
      ]
     },
     "execution_count": 34,
     "metadata": {},
     "output_type": "execute_result"
    }
   ],
   "source": [
    "import folium\n",
    "# create map of Toronto using latitude and longitude values\n",
    "map_Toronto = folium.Map(location=[latitude, longitude], zoom_start=10)\n",
    "\n",
    "# add markers to map\n",
    "for lat, lng, borough, neighborhood in zip(neighborhoods['Latitude'], neighborhoods['Longitude'], neighborhoods['Borough'], neighborhoods['Neighbourhood']):\n",
    "    label = '{}, {}'.format(neighborhood, borough)\n",
    "    label = folium.Popup(label, parse_html=True)\n",
    "    folium.CircleMarker(\n",
    "        [lat, lng],\n",
    "        radius=5,\n",
    "        popup=label,\n",
    "        color='blue',\n",
    "        fill=True,\n",
    "        fill_color='#3186cc',\n",
    "        fill_opacity=0.7,\n",
    "        parse_html=False).add_to(map_Toronto)  \n",
    "    \n",
    "#map_Toronto.save('Neighborhood_Toronto.html')\n",
    "map_Toronto"
   ]
  },
  {
   "cell_type": "code",
   "execution_count": null,
   "metadata": {},
   "outputs": [],
   "source": []
  }
 ],
 "metadata": {
  "kernelspec": {
   "display_name": "Python 3",
   "language": "python",
   "name": "python3"
  },
  "language_info": {
   "codemirror_mode": {
    "name": "ipython",
    "version": 3
   },
   "file_extension": ".py",
   "mimetype": "text/x-python",
   "name": "python",
   "nbconvert_exporter": "python",
   "pygments_lexer": "ipython3",
   "version": "3.7.6"
  }
 },
 "nbformat": 4,
 "nbformat_minor": 4
}

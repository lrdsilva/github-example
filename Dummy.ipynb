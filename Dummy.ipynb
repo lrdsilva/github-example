{
 "cells": [
  {
   "cell_type": "markdown",
   "metadata": {},
   "source": [
    "<h1>Capstone Project- The Battle of the Neighborhood</font></h1>"
   ]
  },
  {
   "cell_type": "markdown",
   "metadata": {},
   "source": [
    "## Table of Contents\n",
    "\n",
    "<div style=\"margin-top: 20px\">\n",
    "\n",
    "<a href=\"#introduction\">Introduction</a></br>\n",
    "\n",
    "<a href=\"#data\">Download and Explore the Dataset</a> </br>\n",
    "    \n",
    "<a href=\"#visualization\">Visualize the Data</a></br>\n",
    "    \n",
    "<a href=\"#explore\">Download and Explore the Dataset for rental accomodation</a></br> \n",
    "    \n",
    "<a href=\"#neighborhood\">Explore Neighborhoods in Bangalore and Mumbai</a></br>\n",
    "    \n",
    "<a href=\"#discussion\">Analyse and Discuss</a></br>\n",
    "    \n",
    "<a href=\"#conclusion\">Conclusion</a></br>    \n",
    "</div>"
   ]
  },
  {
   "cell_type": "markdown",
   "metadata": {},
   "source": [
    "## Introduction<a name=\"introduction\"></a>\n",
    "\n",
    "In this project, we will be exploring two cities Mumbai and Bangalore. Both cities are culturally very different. Population density per square km of Bangalore is 11,371 amd Mumbai is 20693. Both cities have their advantages and disadvantage.\n",
    "\n",
    "We will use our data science powers to compare the two cities based on parameters like Health care, Crime rate, Pollution, cost of living.\n",
    "\n",
    "In case of relocation we will also explore prominent neighborhood in Bangalore(Electronic city) and Mumbai(BKC) for rental accomodation and venues.\n",
    "\n",
    "<b>Please Note : All the figures are in INR(Indian Rupees)</b>"
   ]
  },
  {
   "cell_type": "code",
   "execution_count": null,
   "metadata": {},
   "outputs": [],
   "source": []
  }
 ],
 "metadata": {
  "kernelspec": {
   "display_name": "Python 3",
   "language": "python",
   "name": "python3"
  },
  "language_info": {
   "codemirror_mode": {
    "name": "ipython",
    "version": 3
   },
   "file_extension": ".py",
   "mimetype": "text/x-python",
   "name": "python",
   "nbconvert_exporter": "python",
   "pygments_lexer": "ipython3",
   "version": "3.7.6"
  }
 },
 "nbformat": 4,
 "nbformat_minor": 4
}
